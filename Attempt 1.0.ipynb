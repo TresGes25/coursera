{
    "cells": [
        {
            "cell_type": "markdown",
            "metadata": {},
            "source": "Title"
        },
        {
            "cell_type": "code",
            "execution_count": 1,
            "metadata": {},
            "outputs": [
                {
                    "data": {
                        "text/html": "<div>\n<style scoped>\n    .dataframe tbody tr th:only-of-type {\n        vertical-align: middle;\n    }\n\n    .dataframe tbody tr th {\n        vertical-align: top;\n    }\n\n    .dataframe thead th {\n        text-align: right;\n    }\n</style>\n<table border=\"1\" class=\"dataframe\">\n  <thead>\n    <tr style=\"text-align: right;\">\n      <th></th>\n      <th>Area</th>\n      <th>Research Area</th>\n      <th>Campus</th>\n      <th>Research Responsible</th>\n      <th>Project Name</th>\n      <th>Description of the Project</th>\n      <th>Training Provided</th>\n      <th>Offered During:</th>\n      <th>Modality</th>\n      <th>Tasks/Responsabilities</th>\n      <th>Required language proficiency needed for students to join the proyect</th>\n      <th>Required Skills and Abilities</th>\n      <th>Link to the project</th>\n    </tr>\n  </thead>\n  <tbody>\n    <tr>\n      <th>0</th>\n      <td>Architecture and Design</td>\n      <td>Sustainable Territorial Development</td>\n      <td>Chihuahua</td>\n      <td>Emanuele Giorgi</td>\n      <td>Design for Vulnerables</td>\n      <td>Design for Vulnerable is part of wider researc...</td>\n      <td>Article publication;Elaboration / execution of...</td>\n      <td>Summer (5 weeks);Winter (5 weeks);Semester</td>\n      <td>Hybrid</td>\n      <td>-\\tcoordinate and schedule data collection;\\n-...</td>\n      <td>Spanish (Basic);English (Advanced)</td>\n      <td>-\\tmutual respect;\\n-\\tcultural awareness;\\n-\\...</td>\n      <td>https://www.dropbox.com/s/4nl8hme8e5wbwrm/Desi...</td>\n    </tr>\n    <tr>\n      <th>1</th>\n      <td>Architecture and Design</td>\n      <td>Sustainable Territorial Development</td>\n      <td>Estado de M\u00e9xico</td>\n      <td>Aleksandra Krstikj</td>\n      <td>Nutritious Landscapes: The Food Environments i...</td>\n      <td>Analyzing factors that determine accessibility...</td>\n      <td>Analysis of scientific articles;Scientific-bas...</td>\n      <td>Semester</td>\n      <td>Virtual</td>\n      <td>gathering data, compiling database, analysing ...</td>\n      <td>English (Advanced)</td>\n      <td>statistical analysis (basic to medium), spatia...</td>\n      <td>https://www.dropbox.com/s/e2l1a6ub5degm0c/Nutr...</td>\n    </tr>\n    <tr>\n      <th>2</th>\n      <td>Architecture and Design</td>\n      <td>Sustainable Territorial Development</td>\n      <td>Quer\u00e9taro</td>\n      <td>Carlos Cobreros</td>\n      <td>SCHOOLS OF THE BIOSPHERE. Learning and reconne...</td>\n      <td>MAIN OBJECTIVE OF THE PROJECT\\nDefine the crit...</td>\n      <td>Elaboration of theoretical framework;Preparati...</td>\n      <td>Semester</td>\n      <td>Hybrid</td>\n      <td>Establish a theoretical framework and backgrou...</td>\n      <td>Spanish (Advanced);English (Advanced);German (...</td>\n      <td>Research Skills</td>\n      <td>https://www.dropbox.com/s/8idp4vj97h9ez7t/SCHO...</td>\n    </tr>\n    <tr>\n      <th>3</th>\n      <td>Architecture and Design</td>\n      <td>Sustainable Territorial Development</td>\n      <td>Estado de M\u00e9xico</td>\n      <td>Marisol Ugalde Monzalvo</td>\n      <td>Smart Campus</td>\n      <td>Technology moves the world. Smart cities requi...</td>\n      <td>Analysis of scientific articles;Elaboration of...</td>\n      <td>Semester</td>\n      <td>Virtual</td>\n      <td>Analyze documents, make hypotheses, check results</td>\n      <td>Spanish (Medium);English (Advanced)</td>\n      <td>Critical thinking, interest in science and tec...</td>\n      <td>https://www.dropbox.com/s/vyromd270zbvq82/Smar...</td>\n    </tr>\n    <tr>\n      <th>4</th>\n      <td>Architecture and Design</td>\n      <td>Sustainable Territorial Development</td>\n      <td>Quer\u00e9taro</td>\n      <td>Rub\u00e9n Garnica Monroy</td>\n      <td>The Healthy City</td>\n      <td>As part of Vision 2030, Tec de Monterrey seeks...</td>\n      <td>Design of experiments;Elaboration / execution ...</td>\n      <td>Summer (5 weeks);Winter (5 weeks);Semester</td>\n      <td>In Person</td>\n      <td>Each student will be in charge of a specific s...</td>\n      <td>Spanish (Medium);English (Medium)</td>\n      <td>It is expected that they know how to handle da...</td>\n      <td>https://www.dropbox.com/s/31ufegsbmfvalxo/The%...</td>\n    </tr>\n  </tbody>\n</table>\n</div>",
                        "text/plain": "                      Area                        Research Area  \\\n0  Architecture and Design  Sustainable Territorial Development   \n1  Architecture and Design  Sustainable Territorial Development   \n2  Architecture and Design  Sustainable Territorial Development   \n3  Architecture and Design  Sustainable Territorial Development   \n4  Architecture and Design  Sustainable Territorial Development   \n\n             Campus     Research Responsible  \\\n0         Chihuahua          Emanuele Giorgi   \n1  Estado de M\u00e9xico       Aleksandra Krstikj   \n2         Quer\u00e9taro          Carlos Cobreros   \n3  Estado de M\u00e9xico  Marisol Ugalde Monzalvo   \n4         Quer\u00e9taro     Rub\u00e9n Garnica Monroy   \n\n                                        Project Name  \\\n0                             Design for Vulnerables   \n1  Nutritious Landscapes: The Food Environments i...   \n2  SCHOOLS OF THE BIOSPHERE. Learning and reconne...   \n3                                       Smart Campus   \n4                                   The Healthy City   \n\n                          Description of the Project  \\\n0  Design for Vulnerable is part of wider researc...   \n1  Analyzing factors that determine accessibility...   \n2  MAIN OBJECTIVE OF THE PROJECT\\nDefine the crit...   \n3  Technology moves the world. Smart cities requi...   \n4  As part of Vision 2030, Tec de Monterrey seeks...   \n\n                                   Training Provided  \\\n0  Article publication;Elaboration / execution of...   \n1  Analysis of scientific articles;Scientific-bas...   \n2  Elaboration of theoretical framework;Preparati...   \n3  Analysis of scientific articles;Elaboration of...   \n4  Design of experiments;Elaboration / execution ...   \n\n                              Offered During:   Modality  \\\n0  Summer (5 weeks);Winter (5 weeks);Semester     Hybrid   \n1                                    Semester    Virtual   \n2                                    Semester     Hybrid   \n3                                    Semester    Virtual   \n4  Summer (5 weeks);Winter (5 weeks);Semester  In Person   \n\n                              Tasks/Responsabilities  \\\n0  -\\tcoordinate and schedule data collection;\\n-...   \n1  gathering data, compiling database, analysing ...   \n2  Establish a theoretical framework and backgrou...   \n3  Analyze documents, make hypotheses, check results   \n4  Each student will be in charge of a specific s...   \n\n  Required language proficiency needed for students to join the proyect  \\\n0                 Spanish (Basic);English (Advanced)                      \n1                                 English (Advanced)                      \n2  Spanish (Advanced);English (Advanced);German (...                      \n3                Spanish (Medium);English (Advanced)                      \n4                  Spanish (Medium);English (Medium)                      \n\n                       Required Skills and Abilities  \\\n0  -\\tmutual respect;\\n-\\tcultural awareness;\\n-\\...   \n1  statistical analysis (basic to medium), spatia...   \n2                                    Research Skills   \n3  Critical thinking, interest in science and tec...   \n4  It is expected that they know how to handle da...   \n\n                                 Link to the project  \n0  https://www.dropbox.com/s/4nl8hme8e5wbwrm/Desi...  \n1  https://www.dropbox.com/s/e2l1a6ub5degm0c/Nutr...  \n2  https://www.dropbox.com/s/8idp4vj97h9ez7t/SCHO...  \n3  https://www.dropbox.com/s/vyromd270zbvq82/Smar...  \n4  https://www.dropbox.com/s/31ufegsbmfvalxo/The%...  "
                    },
                    "execution_count": 1,
                    "metadata": {},
                    "output_type": "execute_result"
                }
            ],
            "source": "# The code was removed by Watson Studio for sharing."
        },
        {
            "cell_type": "code",
            "execution_count": null,
            "metadata": {},
            "outputs": [],
            "source": ""
        }
    ],
    "metadata": {
        "kernelspec": {
            "display_name": "Python 3.9",
            "language": "python",
            "name": "python3"
        },
        "language_info": {
            "codemirror_mode": {
                "name": "ipython",
                "version": 3
            },
            "file_extension": ".py",
            "mimetype": "text/x-python",
            "name": "python",
            "nbconvert_exporter": "python",
            "pygments_lexer": "ipython3",
            "version": "3.9.7"
        }
    },
    "nbformat": 4,
    "nbformat_minor": 1
}