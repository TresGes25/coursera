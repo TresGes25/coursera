{
 "cells": [
  {
   "cell_type": "markdown",
   "id": "c2397a7d-8642-47b2-9093-558398cc42b8",
   "metadata": {},
   "source": [
    "# My Jupyter Notebook on IBM Watson Studio"
   ]
  },
  {
   "cell_type": "markdown",
   "id": "11a494fb-e17c-47de-9ed3-2639f1504bed",
   "metadata": {
    "jp-MarkdownHeadingCollapsed": true,
    "tags": []
   },
   "source": [
    "**Gabriel Gonzalez**\n",
    "\n",
    "Economist and data scientist"
   ]
  },
  {
   "cell_type": "markdown",
   "id": "63118d89-b048-4ca6-9506-456970d2b573",
   "metadata": {},
   "source": [
    "_I like data science because it opens up opportunities for analysis within economics and may allow me to discover entrepreneurial opportunities._"
   ]
  },
  {
   "cell_type": "markdown",
   "id": "510cccf4-ee65-4085-8cf0-9679bba8d113",
   "metadata": {},
   "source": [
    "### The following code displays the result of 4 factorial"
   ]
  },
  {
   "cell_type": "code",
   "execution_count": 17,
   "id": "f28f94b0-120f-48d6-a1a1-cab8b5a7bba0",
   "metadata": {},
   "outputs": [
    {
     "name": "stdout",
     "output_type": "stream",
     "text": [
      "24\n"
     ]
    }
   ],
   "source": [
    "import math\n",
    "x = math.factorial(4)\n",
    "print(x)"
   ]
  },
  {
   "cell_type": "markdown",
   "id": "553d5ed8-979d-41be-a08c-b0adbbc59fad",
   "metadata": {},
   "source": [
    "| Title 1 | Title 2 | Title 3 |\n",
    "| --- | --- | --- |\n",
    "| **bold** | _italic_ | ~strikethrough~ |"
   ]
  }
 ],
 "metadata": {
  "kernelspec": {
   "display_name": "Python 3 (ipykernel)",
   "language": "python",
   "name": "python3"
  },
  "language_info": {
   "codemirror_mode": {
    "name": "ipython",
    "version": 3
   },
   "file_extension": ".py",
   "mimetype": "text/x-python",
   "name": "python",
   "nbconvert_exporter": "python",
   "pygments_lexer": "ipython3",
   "version": "3.9.12"
  }
 },
 "nbformat": 4,
 "nbformat_minor": 5
}
